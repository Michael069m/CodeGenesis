{
 "cells": [
  {
   "cell_type": "markdown",
   "metadata": {},
   "source": [
    "# Exploratory Data Analysis\n",
    "\n",
    "This notebook is used for exploratory data analysis (EDA) on the training dataset and the golden test set. The goal is to visualize the dataset, understand its structure, and identify any potential issues before training the machine learning model."
   ]
  },
  {
   "cell_type": "code",
   "execution_count": null,
   "metadata": {
    "collapsed": false
   },
   "outputs": [],
   "source": [
    "# Import necessary libraries\n",
    "import os\n",
    "import matplotlib.pyplot as plt\n",
    "import cv2\n",
    "import numpy as np\n",
    "\n",
    "# Define paths to the datasets\n",
    "train_images_path = '../data/train/images/'\n",
    "golden_test_images_path = '../data/test/golden_test_set/images/'\n",
    "\n",
    "# Function to display a sample of images from a directory\n",
    "def display_sample_images(image_dir, num_images=5):\n",
    "    images = os.listdir(image_dir)[:num_images]\n",
    "    plt.figure(figsize=(15, 5))\n",
    "    for i, img_name in enumerate(images):\n",
    "        img_path = os.path.join(image_dir, img_name)\n",
    "        img = cv2.imread(img_path)\n",
    "        img = cv2.cvtColor(img, cv2.COLOR_BGR2RGB)\n",
    "        plt.subplot(1, num_images, i + 1)\n",
    "        plt.imshow(img)\n",
    "        plt.axis('off')\n",
    "        plt.title(img_name)\n",
    "    plt.show()\n",
    "\n",
    "# Display sample images from the training dataset\n",
    "display_sample_images(train_images_path)\n",
    "\n",
    "# Display sample images from the golden test set\n",
    "display_sample_images(golden_test_images_path)\n",
    "\n",
    "# Further analysis can be added below, such as:\n",
    "# - Image dimensions\n",
    "# - Class distribution\n",
    "# - Data augmentation techniques\n",
    "# - Any preprocessing steps needed for training\n"
   ]
  }
 ],
 "metadata": {
  "kernelspec": {
   "display_name": "Python 3",
   "language": "python",
   "name": "python3"
  },
  "language_info": {
   "codemirror_mode": {
    "name": "ipython",
    "version": 3
   },
   "file_extension": ".py",
   "mimetype": "text/x-python",
   "name": "python",
   "nbconvert_exporter": "python",
   "pygments_lexer": "ipython3",
   "version": "3.8.5"
  }
 },
 "nbformat": 4,
 "nbformat_minor": 4
}